{
 "cells": [
  {
   "cell_type": "code",
   "execution_count": 43,
   "metadata": {},
   "outputs": [],
   "source": [
    "import numpy as np"
   ]
  },
  {
   "cell_type": "code",
   "execution_count": 76,
   "metadata": {},
   "outputs": [
    {
     "name": "stdout",
     "output_type": "stream",
     "text": [
      "(1489, 88)\n",
      "(1489, 17)\n",
      "(1489,)\n",
      "(88, 17)\n",
      "(88, 2939)\n"
     ]
    }
   ],
   "source": [
    "user = np.load('user_following_1489.npy')\n",
    "user_c = np.load('user_category_1489.npy')\n",
    "user_id = np.load('active_userID_1489.npy')\n",
    "youtube_c= np.load('YouTuber_category_0.7.npy')\n",
    "all_feature = np.load('all_2939D_img0.5.npy')\n",
    "print(user.shape)\n",
    "print(user_c.shape)\n",
    "print(user_id.shape)\n",
    "print(youtube_c.shape)\n",
    "print(all_feature.shape)"
   ]
  },
  {
   "cell_type": "code",
   "execution_count": 45,
   "metadata": {},
   "outputs": [],
   "source": [
    "fmin = 1000000\n",
    "fmax = -1000\n",
    "threshold = 5\n",
    "threshold_num = 0\n",
    "for i in range(len(user)):\n",
    "    num_of_following = np.sum(user[i])\n",
    "    if num_of_following < fmin:\n",
    "        fmin = num_of_following\n",
    "    if num_of_following > fmax:\n",
    "        fmax = num_of_following\n",
    "    if num_of_following <= threshold:\n",
    "        threshold_num+=1"
   ]
  },
  {
   "cell_type": "code",
   "execution_count": 46,
   "metadata": {},
   "outputs": [
    {
     "name": "stdout",
     "output_type": "stream",
     "text": [
      "Min: 5\n",
      "Max: 34\n",
      "Number of user only follows 5: 127\n"
     ]
    }
   ],
   "source": [
    "print('Min:',fmin)\n",
    "print('Max:',fmax)\n",
    "print('Number of user only follows '+str(threshold)+':',threshold_num)"
   ]
  },
  {
   "cell_type": "markdown",
   "metadata": {},
   "source": [
    "# 計算每個YouTuber 到底有多少User Follow  "
   ]
  },
  {
   "cell_type": "code",
   "execution_count": 47,
   "metadata": {
    "scrolled": true
   },
   "outputs": [
    {
     "data": {
      "text/plain": [
       "array([180,   2,  20, 385,  21,   3,  28, 163, 628,  57, 303, 564, 134,\n",
       "        29, 246,   7,  76, 322,  35,  13,  28,  99,  65,   7, 508, 610,\n",
       "       186, 278, 425, 222,  25,  20, 310, 315,   2,  46,   5,  90, 100,\n",
       "         3, 463, 271,  33, 461, 152, 321,  16,   9,   5, 151,  15,   4,\n",
       "         1,  29, 342,  78,  33, 164,   2,  85, 376,   3,  12, 602,   2,\n",
       "         3,  20, 958,  10,  37, 256, 319, 149,  23, 736, 154, 382,   2,\n",
       "        49, 972,  74,   2, 477, 107, 364,   7,  54,   5])"
      ]
     },
     "execution_count": 47,
     "metadata": {},
     "output_type": "execute_result"
    }
   ],
   "source": [
    "YouTuber_followed = user.sum(axis = 0)\n",
    "YouTuber_followed"
   ]
  },
  {
   "cell_type": "code",
   "execution_count": 49,
   "metadata": {},
   "outputs": [
    {
     "data": {
      "text/plain": [
       "1"
      ]
     },
     "execution_count": 49,
     "metadata": {},
     "output_type": "execute_result"
    }
   ],
   "source": [
    "YouTuber_followed.min()"
   ]
  },
  {
   "cell_type": "code",
   "execution_count": 48,
   "metadata": {
    "scrolled": false
   },
   "outputs": [
    {
     "name": "stdout",
     "output_type": "stream",
     "text": [
      "Less than 5 users: 15\n",
      "Less than 10 users: 20\n"
     ]
    }
   ],
   "source": [
    "threshold_10 = 0\n",
    "threshold_5 = 0\n",
    "for i in range(len(YouTuber_followed)):\n",
    "    if YouTuber_followed[i] <= 5:\n",
    "        threshold_5 += 1\n",
    "    if YouTuber_followed[i] <= 10:\n",
    "        threshold_10 += 1\n",
    "print('Less than 5 users:',threshold_5)\n",
    "print('Less than 10 users:',threshold_10)"
   ]
  },
  {
   "cell_type": "markdown",
   "metadata": {},
   "source": [
    "# 產生Cold Start的User npy "
   ]
  },
  {
   "cell_type": "code",
   "execution_count": 97,
   "metadata": {},
   "outputs": [],
   "source": [
    "cold_user = []\n",
    "cold_user_c = []\n",
    "cold_user_id = []\n",
    "for i in range(len(user)):\n",
    "    num_of_following = np.sum(user[i])\n",
    "    if num_of_following <= threshold:\n",
    "        cold_user.append(user[i])\n",
    "        cold_user_c.append(user_c[i])\n",
    "        cold_user_id.append(user_id[i])\n",
    "cold_user = np.array(cold_user)\n",
    "cold_user_c = np.array(cold_user_c)\n",
    "cold_user_id = np.array(cold_user_id)"
   ]
  },
  {
   "cell_type": "code",
   "execution_count": 98,
   "metadata": {},
   "outputs": [],
   "source": [
    "new_cold_user = []\n",
    "new_youtube_c = []\n",
    "new_all_feature = []\n",
    "for j in range(cold_user.shape[1]):\n",
    "    if np.sum(cold_user[:,j]) > 0:\n",
    "        new_cold_user.append(cold_user[:,j])\n",
    "        new_youtube_c.append(youtube_c[j])\n",
    "        new_all_feature.append(all_feature[j])\n",
    "new_cold_user = np.array(new_cold_user).transpose()\n",
    "new_youtube_c = np.array(new_youtube_c)\n",
    "new_all_feature = np.array(new_all_feature)"
   ]
  },
  {
   "cell_type": "code",
   "execution_count": 99,
   "metadata": {},
   "outputs": [
    {
     "name": "stdout",
     "output_type": "stream",
     "text": [
      "(127, 57)\n",
      "(57, 17)\n",
      "(57, 2939)\n"
     ]
    }
   ],
   "source": [
    "print(new_cold_user.shape)\n",
    "print(new_youtube_c.shape)\n",
    "print(new_all_feature.shape)"
   ]
  },
  {
   "cell_type": "code",
   "execution_count": 100,
   "metadata": {},
   "outputs": [],
   "source": [
    "np.save('user_following_127_57',new_cold_user)\n",
    "np.save('user_category_127',cold_user_c)\n",
    "np.save('active_userID_127',cold_user_id)\n",
    "np.save('YouTuber_category_0.7_57',new_youtube_c)\n",
    "np.save('all_2939D_y57',new_all_feature)"
   ]
  },
  {
   "cell_type": "code",
   "execution_count": 101,
   "metadata": {},
   "outputs": [
    {
     "data": {
      "text/plain": [
       "array([5, 5, 5, 5, 5, 5, 5, 5, 5, 5, 5, 5, 5, 5, 5, 5, 5, 5, 5, 5, 5, 5,\n",
       "       5, 5, 5, 5, 5, 5, 5, 5, 5, 5, 5, 5, 5, 5, 5, 5, 5, 5, 5, 5, 5, 5,\n",
       "       5, 5, 5, 5, 5, 5, 5, 5, 5, 5, 5, 5, 5, 5, 5, 5, 5, 5, 5, 5, 5, 5,\n",
       "       5, 5, 5, 5, 5, 5, 5, 5, 5, 5, 5, 5, 5, 5, 5, 5, 5, 5, 5, 5, 5, 5,\n",
       "       5, 5, 5, 5, 5, 5, 5, 5, 5, 5, 5, 5, 5, 5, 5, 5, 5, 5, 5, 5, 5, 5,\n",
       "       5, 5, 5, 5, 5, 5, 5, 5, 5, 5, 5, 5, 5, 5, 5, 5, 5])"
      ]
     },
     "execution_count": 101,
     "metadata": {},
     "output_type": "execute_result"
    }
   ],
   "source": [
    "np.sum(new_cold_user,axis=1)"
   ]
  },
  {
   "cell_type": "markdown",
   "metadata": {},
   "source": [
    "# 產生 Cold start 的 YouTuber.npy"
   ]
  },
  {
   "cell_type": "code",
   "execution_count": 50,
   "metadata": {},
   "outputs": [
    {
     "name": "stdout",
     "output_type": "stream",
     "text": [
      "user matrix shape: (1489, 88)\n"
     ]
    }
   ],
   "source": [
    "print('user matrix shape:',user.shape)"
   ]
  },
  {
   "cell_type": "code",
   "execution_count": 103,
   "metadata": {},
   "outputs": [
    {
     "name": "stdout",
     "output_type": "stream",
     "text": [
      "(1489, 50)\n",
      "(50, 17)\n",
      "(50, 2939)\n"
     ]
    }
   ],
   "source": [
    "cold_start_Yts = []\n",
    "youtube_c_Yts = []\n",
    "feature_Yts = []\n",
    "for i in range(user.shape[1]):\n",
    "    if YouTuber_followed[i] <= 100:\n",
    "        youtube_c_Yts.append(youtube_c[i])\n",
    "        feature_Yts.append(all_feature[i])\n",
    "        cold_start_Yts.append(user[:,i])\n",
    "cold_start_Yts = np.array(cold_start_Yts).transpose()\n",
    "youtube_c_Yts = np.array(youtube_c_Yts)\n",
    "feature_Yts = np.array(feature_Yts)\n",
    "print(cold_start_Yts.shape)\n",
    "print(youtube_c_Yts.shape)\n",
    "print(feature_Yts.shape)"
   ]
  },
  {
   "cell_type": "code",
   "execution_count": 104,
   "metadata": {},
   "outputs": [
    {
     "name": "stdout",
     "output_type": "stream",
     "text": [
      "(710, 50)\n",
      "(710, 17)\n",
      "(710,)\n"
     ]
    }
   ],
   "source": [
    "user_sum = np.sum(cold_start_Yts,axis=1)\n",
    "user_Yts = []\n",
    "user_c_Yts = []\n",
    "user_id_Yts = []\n",
    "for i in range(len(user_sum)):\n",
    "    if user_sum[i] > 0:\n",
    "        user_Yts.append(cold_start_Yts[i])\n",
    "        user_c_Yts.append(user_c[i])\n",
    "        user_id_Yts.append(user_id[i])\n",
    "user_Yts = np.array(user_Yts)\n",
    "user_c_Yts = np.array(user_c_Yts)\n",
    "user_id_Yts = np.array(user_id_Yts)\n",
    "print(user_Yts.shape)\n",
    "print(user_c_Yts.shape)\n",
    "print(user_id_Yts.shape)"
   ]
  },
  {
   "cell_type": "code",
   "execution_count": 106,
   "metadata": {},
   "outputs": [],
   "source": [
    "np.save('user_following_710_50',user_Yts)\n",
    "np.save('user_category_710',user_c_Yts)\n",
    "np.save('active_userID_710',user_id_Yts)\n",
    "np.save('all_2939D_y50',feature_Yts)\n",
    "np.save('YouTuber_category_0.7_50',youtube_c_Yts)"
   ]
  },
  {
   "cell_type": "code",
   "execution_count": 107,
   "metadata": {},
   "outputs": [
    {
     "name": "stdout",
     "output_type": "stream",
     "text": [
      "348\n",
      "2.9655172413793105\n"
     ]
    }
   ],
   "source": [
    "count = 0 \n",
    "mysum = []\n",
    "for i in range(len(user_Yts)):\n",
    "    #print(np.sum(user_Yts[i]))\n",
    "    if np.sum(user_Yts[i]) > 1:\n",
    "        count+=1\n",
    "        mysum.append(np.sum(user_Yts[i]))\n",
    "mysum = np.array(mysum)\n",
    "avg = np.sum(mysum)/len(mysum)\n",
    "print(count)\n",
    "print(avg)"
   ]
  },
  {
   "cell_type": "code",
   "execution_count": null,
   "metadata": {},
   "outputs": [],
   "source": []
  }
 ],
 "metadata": {
  "kernelspec": {
   "display_name": "Python 3",
   "language": "python",
   "name": "python3"
  },
  "language_info": {
   "codemirror_mode": {
    "name": "ipython",
    "version": 3
   },
   "file_extension": ".py",
   "mimetype": "text/x-python",
   "name": "python",
   "nbconvert_exporter": "python",
   "pygments_lexer": "ipython3",
   "version": "3.6.4"
  }
 },
 "nbformat": 4,
 "nbformat_minor": 2
}
